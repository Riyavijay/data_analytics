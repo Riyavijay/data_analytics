{
 "cells": [
  {
   "cell_type": "code",
   "execution_count": null,
   "metadata": {},
   "outputs": [],
   "source": [
    "#single exponential smoothing\n",
    "from statsmodels.tsa.api import ExponentialSmoothing,SimpleExpSmoothing, Holt\n",
    "import pandas as pd\n",
    "import matplotlib.pyplot as plt\n",
    "import numpy\n",
    "\n",
    "from statsmodels.tsa.holtwinters import ExponentialSmoothing\n",
    "# prepare data\n",
    "r = pd.read_csv(\"shampoo.csv\")\n",
    "# create class\n",
    "data=list(r['Sales'])\n",
    "model = ExponentialSmoothing(data)\n",
    "# fit model\n",
    "model_fit = model.fit(smoothing_level=0.5,optimized=False)\n",
    "# make prediction\n",
    "yhat = model_fit.predict(0,35)\n",
    "plt.plot(data,label=\"observed\")\n",
    "plt.plot(yhat,label=\"predicted\")\n",
    "plt.legend()\n",
    "plt.show()"
   ]
  }
 ],
 "metadata": {
  "kernelspec": {
   "display_name": "Python 3",
   "language": "python",
   "name": "python3"
  },
  "language_info": {
   "codemirror_mode": {
    "name": "ipython",
    "version": 3
   },
   "file_extension": ".py",
   "mimetype": "text/x-python",
   "name": "python",
   "nbconvert_exporter": "python",
   "pygments_lexer": "ipython3",
   "version": "3.7.1"
  }
 },
 "nbformat": 4,
 "nbformat_minor": 2
}
